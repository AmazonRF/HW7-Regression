{
 "cells": [
  {
   "cell_type": "code",
   "execution_count": 1,
   "metadata": {},
   "outputs": [],
   "source": [
    "from regression import BaseRegressor, LogisticRegressor\n",
    "from regression import loadDataset\n",
    "from sklearn.preprocessing import StandardScaler\n",
    "import numpy as np\n"
   ]
  },
  {
   "cell_type": "code",
   "execution_count": 2,
   "metadata": {},
   "outputs": [
    {
     "name": "stderr",
     "output_type": "stream",
     "text": [
      "/Users/yifeichen/Desktop/winter24/HW7-Regression/regression/logreg.py:154: RuntimeWarning: divide by zero encountered in log\n",
      "  loss_score+= (y_true_*np.log(y_pred_)+(1-y_true_)*np.log(1-y_pred_))\n",
      "/Users/yifeichen/Desktop/winter24/HW7-Regression/regression/logreg.py:154: RuntimeWarning: invalid value encountered in scalar multiply\n",
      "  loss_score+= (y_true_*np.log(y_pred_)+(1-y_true_)*np.log(1-y_pred_))\n"
     ]
    }
   ],
   "source": [
    "\n",
    "\n",
    "\n",
    "X_train, X_val, y_train, y_val = loadDataset(split_percent=0.8)\n",
    "\n",
    "sc = StandardScaler()\n",
    "X_train = sc.fit_transform(X_train)\n",
    "X_val = sc.transform(X_val)\n",
    "\n",
    "log_model = LogisticRegressor(num_feats=6)\n",
    "X_val = np.hstack([X_val, np.ones((X_val.shape[0], 1))])\n",
    "pred = log_model.make_prediction(X_val)\n",
    "loss1 = log_model.loss_function(y_val, y_val)\n",
    "loss2 = log_model.loss_function(pred, pred)\n"
   ]
  },
  {
   "cell_type": "code",
   "execution_count": 7,
   "metadata": {},
   "outputs": [
    {
     "data": {
      "text/plain": [
       "array([ -73.94373688, -172.05698895, -128.81945618,    0.        ,\n",
       "          0.        ,   38.53858729,  -22.34540644])"
      ]
     },
     "execution_count": 7,
     "metadata": {},
     "output_type": "execute_result"
    }
   ],
   "source": [
    "grad = log_model.calculate_gradient(y_val, X_val)\n",
    "grad"
   ]
  },
  {
   "cell_type": "code",
   "execution_count": 5,
   "metadata": {},
   "outputs": [
    {
     "data": {
      "text/plain": [
       "7"
      ]
     },
     "execution_count": 5,
     "metadata": {},
     "output_type": "execute_result"
    }
   ],
   "source": [
    "len(grad)"
   ]
  },
  {
   "cell_type": "code",
   "execution_count": 6,
   "metadata": {},
   "outputs": [
    {
     "data": {
      "text/plain": [
       "7"
      ]
     },
     "execution_count": 6,
     "metadata": {},
     "output_type": "execute_result"
    }
   ],
   "source": [
    "log_model.W.shape[0]"
   ]
  },
  {
   "cell_type": "code",
   "execution_count": null,
   "metadata": {},
   "outputs": [],
   "source": []
  }
 ],
 "metadata": {
  "kernelspec": {
   "display_name": "ucsfbp",
   "language": "python",
   "name": "python3"
  },
  "language_info": {
   "codemirror_mode": {
    "name": "ipython",
    "version": 3
   },
   "file_extension": ".py",
   "mimetype": "text/x-python",
   "name": "python",
   "nbconvert_exporter": "python",
   "pygments_lexer": "ipython3",
   "version": "3.11.4"
  }
 },
 "nbformat": 4,
 "nbformat_minor": 2
}
